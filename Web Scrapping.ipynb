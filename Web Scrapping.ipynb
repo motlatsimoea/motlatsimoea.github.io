{
 "cells": [
  {
   "cell_type": "markdown",
   "id": "32f43bc5",
   "metadata": {},
   "source": [
    "#### Task 1: Get info for one Movie and store in a python Dictionary"
   ]
  },
  {
   "cell_type": "markdown",
   "id": "d6f00286",
   "metadata": {},
   "source": [
    "#### Import Libraries"
   ]
  },
  {
   "cell_type": "code",
   "execution_count": 1,
   "id": "1f9bb49b",
   "metadata": {},
   "outputs": [],
   "source": [
    "from bs4 import BeautifulSoup as bs\n",
    "import requests"
   ]
  },
  {
   "cell_type": "markdown",
   "id": "b7af9455",
   "metadata": {},
   "source": [
    "#### Load Webpage"
   ]
  },
  {
   "cell_type": "code",
   "execution_count": 2,
   "id": "7a83aeb1",
   "metadata": {},
   "outputs": [],
   "source": [
    "r = requests.get(\"https://en.wikipedia.org/wiki/Toy_Story_3\")\n",
    "soup = bs(r.content)\n",
    "content = soup.prettify()\n",
    "#print(content)"
   ]
  },
  {
   "cell_type": "code",
   "execution_count": 6,
   "id": "12a39bc6",
   "metadata": {},
   "outputs": [],
   "source": [
    "info_box = soup.find(class_=\"infobox vevent\")\n",
    "#print(info_box.prettify())\n",
    "info_rows = info_box.find_all(\"tr\")\n",
    "\n",
    "#for row in info_rows:\n",
    "    #print(row.prettify())\n",
    "\n"
   ]
  },
  {
   "cell_type": "code",
   "execution_count": 13,
   "id": "d0ddd5d7",
   "metadata": {
    "collapsed": true
   },
   "outputs": [
    {
     "data": {
      "text/plain": [
       "{'title': 'Toy Story 3',\n",
       " 'Directed by': 'Lee Unkrich',\n",
       " 'Screenplay by': 'Michael Arndt',\n",
       " 'Story by': ['John Lasseter', 'Andrew Stanton', 'Lee Unkrich'],\n",
       " 'Produced by': 'Darla K. Anderson',\n",
       " 'Starring': ['Tom Hanks',\n",
       "  'Tim Allen',\n",
       "  'Joan Cusack',\n",
       "  'Don Rickles',\n",
       "  'Wallace Shawn',\n",
       "  'John Ratzenberger',\n",
       "  'Estelle Harris',\n",
       "  'Ned Beatty',\n",
       "  'Michael Keaton',\n",
       "  'Jodi Benson',\n",
       "  'John Morris'],\n",
       " 'Cinematography': ['Jeremy Lasky', 'Kim White'],\n",
       " 'Edited by': 'Ken Schretzmann',\n",
       " 'Music by': 'Randy Newman',\n",
       " 'Production companies': ['Walt Disney Pictures', 'Pixar Animation Studios'],\n",
       " 'Distributed by': 'Walt Disney Studios Motion Pictures',\n",
       " 'Release dates': ['June 12, 2010 ( 2010-06-12 ) ( Taormina Film Fest )',\n",
       "  'June 18, 2010 ( 2010-06-18 ) (United States)'],\n",
       " 'Running time': '103 minutes [1]',\n",
       " 'Country': 'United States',\n",
       " 'Language': 'English',\n",
       " 'Budget': '$200 million [1]',\n",
       " 'Box office': '$1.067 billion [1]'}"
      ]
     },
     "execution_count": 13,
     "metadata": {},
     "output_type": "execute_result"
    }
   ],
   "source": [
    "def get_content_value(row_data):\n",
    "    if row_data.find(\"li\"):\n",
    "        return [li.get_text(\" \", strip=True).replace('\\xa0', ' ') for li in row_data.find_all(\"li\")]\n",
    "    else:\n",
    "        return row_data.get_text(\" \", strip=True).replace('\\xa0', ' ') \n",
    "\n",
    "    \n",
    "movie_info = {}\n",
    "\n",
    "for index, row in enumerate(info_rows):\n",
    "    if index == 0:\n",
    "        movie_info['title'] = row.find(\"th\").get_text(\" \", strip=True) \n",
    "    elif index == 1:\n",
    "        continue\n",
    "    else:\n",
    "        content_key = row.find(\"th\").get_text(\" \", strip=True)\n",
    "        content_value = get_content_value(row.find(\"td\"))\n",
    "        movie_info[content_key] = content_value\n",
    "        \n",
    "movie_info\n"
   ]
  },
  {
   "cell_type": "markdown",
   "id": "13135b37",
   "metadata": {},
   "source": [
    "#### Task 2: Scape all the other movie information box from the Disney wikipedia page"
   ]
  },
  {
   "cell_type": "code",
   "execution_count": 14,
   "id": "a4a19197",
   "metadata": {},
   "outputs": [],
   "source": [
    "r = requests.get(\"https://en.wikipedia.org/wiki/List_of_Walt_Disney_Pictures_films\")\n",
    "soup_2 = bs(r.content)\n",
    "content = soup_2.prettify()\n",
    "#print(content)"
   ]
  },
  {
   "cell_type": "markdown",
   "id": "c8b78fff",
   "metadata": {},
   "source": [
    "#### Tast 2-a: Get links for the different movies"
   ]
  },
  {
   "cell_type": "code",
   "execution_count": 17,
   "id": "b8e54d76",
   "metadata": {},
   "outputs": [
    {
     "data": {
      "text/plain": [
       "[<i><a href=\"/wiki/Snow_White_and_the_Seven_Dwarfs_(1937_film)\" title=\"Snow White and the Seven Dwarfs (1937 film)\">Snow White and the Seven Dwarfs</a></i>,\n",
       " <i><a href=\"/wiki/Pinocchio_(1940_film)\" title=\"Pinocchio (1940 film)\">Pinocchio</a></i>,\n",
       " <i><a href=\"/wiki/Fantasia_(1940_film)\" title=\"Fantasia (1940 film)\">Fantasia</a></i>,\n",
       " <i><a href=\"/wiki/The_Reluctant_Dragon_(1941_film)\" title=\"The Reluctant Dragon (1941 film)\">The Reluctant Dragon</a></i>,\n",
       " <i><a href=\"/wiki/Dumbo\" title=\"Dumbo\">Dumbo</a></i>,\n",
       " <i><a href=\"/wiki/Bambi\" title=\"Bambi\">Bambi</a></i>]"
      ]
     },
     "execution_count": 17,
     "metadata": {},
     "output_type": "execute_result"
    }
   ],
   "source": [
    "movies = soup_2.select(\".wikitable.sortable i\")\n",
    "movies[0:6]"
   ]
  },
  {
   "cell_type": "code",
   "execution_count": 47,
   "id": "1b5396ef",
   "metadata": {},
   "outputs": [],
   "source": [
    "def get_content_value(row_data):\n",
    "    if row_data.find(\"li\"):\n",
    "        return [li.get_text(\" \", strip=True).replace('\\xa0', ' ') for li in row_data.find_all(\"li\")]\n",
    "    \n",
    "    elif row_data.find(\"br\"):\n",
    "        return [text for text in row_data.stripped_strings]\n",
    "    \n",
    "    else:\n",
    "        return row_data.get_text(\" \", strip=True).replace('\\xa0', ' ')    \n",
    "    \n",
    "def clean_tags(soup):\n",
    "    for tag in soup.find_all([\"sup\", \"span\"]):\n",
    "        tag.decompose()\n",
    "\n",
    "\n",
    "def get_info_box(url):\n",
    "        \n",
    "    r = requests.get(url)\n",
    "    soup = bs(r.content)\n",
    "    \n",
    "    clean_tags(soup)\n",
    "    \n",
    "    info_box = soup.find(class_=\"infobox vevent\")\n",
    "    info_rows = info_box.find_all(\"tr\")\n",
    "    \n",
    "    \n",
    "    \n",
    "\n",
    "    \n",
    "    movie_info = {}\n",
    "    for index, row in enumerate(info_rows):\n",
    "        if index == 0:\n",
    "            movie_info['title'] = row.find(\"th\").get_text(\" \", strip=True) \n",
    "        \n",
    "        else:\n",
    "            header = row.find('th')\n",
    "            if header:\n",
    "                content_key = row.find(\"th\").get_text(\" \", strip=True)\n",
    "                content_value = get_content_value(row.find(\"td\"))\n",
    "                movie_info[content_key] = content_value    \n",
    "            \n",
    "    return movie_info"
   ]
  },
  {
   "cell_type": "code",
   "execution_count": 45,
   "id": "4e5974c6",
   "metadata": {
    "collapsed": true
   },
   "outputs": [
    {
     "data": {
      "text/plain": [
       "{'title': 'Toy Story 3',\n",
       " 'Directed by': 'Lee Unkrich',\n",
       " 'Screenplay by': 'Michael Arndt',\n",
       " 'Story by': ['John Lasseter', 'Andrew Stanton', 'Lee Unkrich'],\n",
       " 'Produced by': 'Darla K. Anderson',\n",
       " 'Starring': ['Tom Hanks',\n",
       "  'Tim Allen',\n",
       "  'Joan Cusack',\n",
       "  'Don Rickles',\n",
       "  'Wallace Shawn',\n",
       "  'John Ratzenberger',\n",
       "  'Estelle Harris',\n",
       "  'Ned Beatty',\n",
       "  'Michael Keaton',\n",
       "  'Jodi Benson',\n",
       "  'John Morris'],\n",
       " 'Cinematography': ['Jeremy Lasky', 'Kim White'],\n",
       " 'Edited by': 'Ken Schretzmann',\n",
       " 'Music by': 'Randy Newman',\n",
       " 'Production companies': ['Walt Disney Pictures', 'Pixar Animation Studios'],\n",
       " 'Distributed by': ['Walt Disney Studios', 'Motion Pictures'],\n",
       " 'Release dates': ['June 12, 2010 ( Taormina Film Fest )',\n",
       "  'June 18, 2010 (United States)'],\n",
       " 'Running time': '103 minutes',\n",
       " 'Country': 'United States',\n",
       " 'Language': 'English',\n",
       " 'Budget': '$200 million',\n",
       " 'Box office': '$1.067 billion'}"
      ]
     },
     "execution_count": 45,
     "metadata": {},
     "output_type": "execute_result"
    }
   ],
   "source": [
    "#Test Cleaning solution\n",
    "get_info_box('https://en.wikipedia.org/wiki/Toy_Story_3')"
   ]
  },
  {
   "cell_type": "code",
   "execution_count": 48,
   "id": "c3667b78",
   "metadata": {},
   "outputs": [
    {
     "name": "stdout",
     "output_type": "stream",
     "text": [
      "Zorro the Avenger\n",
      "'NoneType' object has no attribute 'find'\n",
      "The Sign of Zorro\n",
      "'NoneType' object has no attribute 'find'\n",
      "Spirited Away\n",
      "'NoneType' object has no attribute 'find'\n",
      "Howl's Moving Castle\n",
      "'NoneType' object has no attribute 'find'\n",
      "Ponyo\n",
      "'NoneType' object has no attribute 'find'\n",
      "Tales from Earthsea\n",
      "'NoneType' object has no attribute 'find'\n",
      "The Secret World of Arrietty\n",
      "'NoneType' object has no attribute 'find'\n",
      "The Beatles: Get Back – The Rooftop Concert\n",
      "'NoneType' object has no attribute 'find'\n",
      "Wish\n",
      "'NoneType' object has no attribute 'find_all'\n",
      "Elio\n",
      "'NoneType' object has no attribute 'find_all'\n",
      "61\n",
      "'NoneType' object has no attribute 'find_all'\n",
      "All Night Long\n",
      "'NoneType' object has no attribute 'find'\n",
      "Big Thunder Mountain Railroad\n",
      "'NoneType' object has no attribute 'find_all'\n",
      "Keeper of the Lost Cities\n",
      "'NoneType' object has no attribute 'find_all'\n",
      "Muppet Man\n",
      "'NoneType' object has no attribute 'find_all'\n",
      "One Thousand and One Nights\n",
      "'NoneType' object has no attribute 'find_all'\n",
      "Shrunk\n",
      "'NoneType' object has no attribute 'find'\n",
      "Sister Act 3\n",
      "'NoneType' object has no attribute 'find'\n",
      "The Graveyard Book\n",
      "'NoneType' object has no attribute 'find_all'\n",
      "The Thief\n",
      "'NoneType' object has no attribute 'find_all'\n",
      "Tom Sawyer\n",
      "'NoneType' object has no attribute 'find_all'\n",
      "Tower of Terror\n",
      "'NoneType' object has no attribute 'find_all'\n",
      "Tron: Ares\n",
      "'NoneType' object has no attribute 'find'\n",
      "FC Barcelona\n",
      "'NoneType' object has no attribute 'find_all'\n",
      "Figment\n",
      "'NoneType' object has no attribute 'find_all'\n"
     ]
    }
   ],
   "source": [
    "r = requests.get(\"https://en.wikipedia.org/wiki/List_of_Walt_Disney_Pictures_films\")\n",
    "soup_2 = bs(r.content)\n",
    "movies = soup_2.select(\".wikitable.sortable i a\")\n",
    "\n",
    "base_path = 'https://en.wikipedia.org/'\n",
    "\n",
    "movie_info_list = []\n",
    "for index, movie in enumerate(movies):\n",
    "    #if index == 10:\n",
    "        #break\n",
    "    try:\n",
    "        relative_path = movie['href']\n",
    "        full_path = base_path + relative_path\n",
    "        title = movie['title']\n",
    "        \n",
    "        movie_info_list.append(get_info_box(full_path))\n",
    "        \n",
    "    except Exception as e:\n",
    "        print(movie.get_text())\n",
    "        print(e)"
   ]
  },
  {
   "cell_type": "code",
   "execution_count": 49,
   "id": "fa01827c",
   "metadata": {},
   "outputs": [
    {
     "data": {
      "text/plain": [
       "525"
      ]
     },
     "execution_count": 49,
     "metadata": {},
     "output_type": "execute_result"
    }
   ],
   "source": [
    "len(movie_info_list)"
   ]
  },
  {
   "cell_type": "markdown",
   "id": "a3c9a23a",
   "metadata": {},
   "source": [
    "#### Save Data as Json"
   ]
  },
  {
   "cell_type": "code",
   "execution_count": 75,
   "id": "f108e8d4",
   "metadata": {},
   "outputs": [],
   "source": [
    "import json\n",
    "\n",
    "def save_data(title, data):\n",
    "    with open(title, 'w', encoding = \"utf-8\") as f:\n",
    "        json.dump(data, f, ensure_ascii=False, indent=2)"
   ]
  },
  {
   "cell_type": "code",
   "execution_count": 76,
   "id": "6c81ce79",
   "metadata": {},
   "outputs": [],
   "source": [
    "import json\n",
    "\n",
    "def load_data(title):\n",
    "    with open(title, encoding = \"utf-8\") as f:\n",
    "        return json.load(f)\n",
    "    "
   ]
  },
  {
   "cell_type": "code",
   "execution_count": 50,
   "id": "f2c4d2e2",
   "metadata": {},
   "outputs": [],
   "source": [
    "save_data(\"Disney_Movies_semi_cleaned.json\", movie_info_list)"
   ]
  },
  {
   "cell_type": "markdown",
   "id": "8d48fb8e",
   "metadata": {},
   "source": [
    "### Data Cleaning!\n",
    "\n",
    "- ~Clean up References e.g [1];~\n",
    "- ~Convert runtime into integers;~\n",
    "- ~Convert dates into datetime;~\n",
    "- ~Split long strings;~\n",
    "- ~Convert Budget and Box Office to numbers.~"
   ]
  },
  {
   "cell_type": "code",
   "execution_count": 52,
   "id": "c983254a",
   "metadata": {},
   "outputs": [],
   "source": [
    "movie_info_list = load_data(\"Disney_Movies_semi_cleaned.json\")"
   ]
  },
  {
   "cell_type": "code",
   "execution_count": 7,
   "id": "baddc0c5",
   "metadata": {
    "scrolled": true
   },
   "outputs": [],
   "source": [
    "#[movie.get('Running time', 'N/A') for movie in movie_info_list]"
   ]
  },
  {
   "cell_type": "code",
   "execution_count": 57,
   "id": "28244e4c",
   "metadata": {},
   "outputs": [],
   "source": [
    "def minute_to_int(running_time):\n",
    "    if running_time == 'N/A':\n",
    "        return None\n",
    "    \n",
    "    if isinstance(running_time, list):\n",
    "        return int(running_time[0].split(' ')[0])\n",
    "    else:\n",
    "        return int(running_time.split(' ')[0])\n",
    "    \n",
    "\n",
    "for movie in movie_info_list:\n",
    "    movie[\"Running time(int)\"] = minute_to_int(movie.get('Running time', 'N/A'))\n",
    "        "
   ]
  },
  {
   "cell_type": "code",
   "execution_count": 59,
   "id": "1f6e0593",
   "metadata": {
    "collapsed": true
   },
   "outputs": [
    {
     "data": {
      "text/plain": [
       "{'title': 'National Treasure: Book of Secrets',\n",
       " 'Directed by': 'Jon Turteltaub',\n",
       " 'Screenplay by': ['Cormac Wibberley', 'Marianne Wibberley'],\n",
       " 'Story by': ['Gregory Poirier',\n",
       "  'Cormac Wibberley',\n",
       "  'Marianne Wibberley',\n",
       "  'Ted Elliott',\n",
       "  'Terry Rossio'],\n",
       " 'Based on': ['Characters', 'by', 'Jim Kouf', 'Oren Aviv', 'Charles Segars'],\n",
       " 'Produced by': ['Jerry Bruckheimer', 'Jon Turteltaub'],\n",
       " 'Starring': ['Nicolas Cage',\n",
       "  'Jon Voight',\n",
       "  'Harvey Keitel',\n",
       "  'Ed Harris',\n",
       "  'Diane Kruger',\n",
       "  'Justin Bartha',\n",
       "  'Bruce Greenwood',\n",
       "  'Helen Mirren'],\n",
       " 'Cinematography': ['John Schwartzman', 'Amir Mokri'],\n",
       " 'Edited by': ['William Goldenberg', 'David Rennie'],\n",
       " 'Music by': 'Trevor Rabin',\n",
       " 'Production companies': ['Walt Disney Pictures',\n",
       "  'Jerry Bruckheimer Films',\n",
       "  'Junction Entertainment',\n",
       "  'Saturn Films'],\n",
       " 'Distributed by': 'Walt Disney Studios Motion Pictures',\n",
       " 'Release date': ['December 21, 2007'],\n",
       " 'Running time': '124 minutes',\n",
       " 'Country': 'United States',\n",
       " 'Language': 'English',\n",
       " 'Budget': '$130 million',\n",
       " 'Box office': '$459.2 million',\n",
       " 'Running time(int)': 124}"
      ]
     },
     "execution_count": 59,
     "metadata": {},
     "output_type": "execute_result"
    }
   ],
   "source": [
    "movie_info_list[-10]"
   ]
  },
  {
   "cell_type": "code",
   "execution_count": 8,
   "id": "259a7650",
   "metadata": {},
   "outputs": [],
   "source": [
    "#[movie.get('Budget','N/A') for movie in movie_info_list]"
   ]
  },
  {
   "cell_type": "code",
   "execution_count": 70,
   "id": "047f057a",
   "metadata": {},
   "outputs": [],
   "source": [
    "import re\n",
    "\n",
    "amounts = r\"thousand|million|billion\"\n",
    "number = r\"\\d+(,\\d{3})*\\.*\\d*\"\n",
    "\n",
    "value_re = rf\"\\${number}\"\n",
    "word_re = rf\"\\${number}(-|\\sto\\s)?({number})?\\s({amounts})\"\n",
    "'''\n",
    "money_conversion(\"$12.2 million\") --> 12200000\n",
    "money_conversion(\"$790,000\") --> 790000\n",
    "'''\n",
    "\n",
    "\n",
    "def word_to_value(word):\n",
    "    value_dict = {'thousand':1000, 'million': 1000000, 'billion': 1000000000}\n",
    "    return value_dict[word]\n",
    "\n",
    "\n",
    "\n",
    "def parse_word_syntax(string):\n",
    "    value_string = re.search(number, string).group()\n",
    "    value = float(value_string.replace(',', ''))\n",
    "    word = re.search(amounts, string, flags=re.I).group().lower()\n",
    "    word_value = word_to_value(word)\n",
    "    return value*word_value\n",
    "\n",
    "\n",
    "def parse_value_syntax(string):\n",
    "    value_string = re.search(number, string).group()\n",
    "    value = float(value_string.replace(',', ''))\n",
    "    return value\n",
    "\n",
    "\n",
    "def money_conversion(money):\n",
    "    \n",
    "    if money == \"N/A\":\n",
    "        return None\n",
    "\n",
    "    if isinstance(money, list):\n",
    "        money = money[0]\n",
    "\n",
    "    word_syntax = re.search(word_re, money, flags=re.I)\n",
    "    value_syntax = re.search(value_re, money)\n",
    "\n",
    "    if word_syntax:\n",
    "        return parse_word_syntax(word_syntax.group())\n",
    "    \n",
    "    elif value_syntax:\n",
    "        return parse_value_syntax(value_syntax.group())\n",
    "    \n",
    "    else:\n",
    "        return None"
   ]
  },
  {
   "cell_type": "code",
   "execution_count": 69,
   "id": "e5868045",
   "metadata": {},
   "outputs": [],
   "source": [
    "for movie in movie_info_list:\n",
    "    movie[\"Budget(float)\"] = money_conversion(movie.get('Budget', 'N/A'))\n",
    "    movie[\"Box office(float)\"] = money_conversion(movie.get('Box office', 'N/A'))"
   ]
  },
  {
   "cell_type": "markdown",
   "id": "270a23bd",
   "metadata": {},
   "source": [
    "#### Convert dates to datetime"
   ]
  },
  {
   "cell_type": "code",
   "execution_count": 71,
   "id": "94687886",
   "metadata": {
    "collapsed": true
   },
   "outputs": [
    {
     "data": {
      "text/plain": [
       "{'title': 'National Treasure: Book of Secrets',\n",
       " 'Directed by': 'Jon Turteltaub',\n",
       " 'Screenplay by': ['Cormac Wibberley', 'Marianne Wibberley'],\n",
       " 'Story by': ['Gregory Poirier',\n",
       "  'Cormac Wibberley',\n",
       "  'Marianne Wibberley',\n",
       "  'Ted Elliott',\n",
       "  'Terry Rossio'],\n",
       " 'Based on': ['Characters', 'by', 'Jim Kouf', 'Oren Aviv', 'Charles Segars'],\n",
       " 'Produced by': ['Jerry Bruckheimer', 'Jon Turteltaub'],\n",
       " 'Starring': ['Nicolas Cage',\n",
       "  'Jon Voight',\n",
       "  'Harvey Keitel',\n",
       "  'Ed Harris',\n",
       "  'Diane Kruger',\n",
       "  'Justin Bartha',\n",
       "  'Bruce Greenwood',\n",
       "  'Helen Mirren'],\n",
       " 'Cinematography': ['John Schwartzman', 'Amir Mokri'],\n",
       " 'Edited by': ['William Goldenberg', 'David Rennie'],\n",
       " 'Music by': 'Trevor Rabin',\n",
       " 'Production companies': ['Walt Disney Pictures',\n",
       "  'Jerry Bruckheimer Films',\n",
       "  'Junction Entertainment',\n",
       "  'Saturn Films'],\n",
       " 'Distributed by': 'Walt Disney Studios Motion Pictures',\n",
       " 'Release date': ['December 21, 2007'],\n",
       " 'Running time': '124 minutes',\n",
       " 'Country': 'United States',\n",
       " 'Language': 'English',\n",
       " 'Budget': '$130 million',\n",
       " 'Box office': '$459.2 million',\n",
       " 'Running time(int)': 124,\n",
       " 'Budget(float)': 130000000.0,\n",
       " 'Box office(float)': 459200000.0}"
      ]
     },
     "execution_count": 71,
     "metadata": {},
     "output_type": "execute_result"
    }
   ],
   "source": [
    "movie_info_list[-10]"
   ]
  },
  {
   "cell_type": "code",
   "execution_count": 9,
   "id": "bb04eae7",
   "metadata": {},
   "outputs": [],
   "source": [
    "#[movie.get('Release date','N/A') for movie in movie_info_list]"
   ]
  },
  {
   "cell_type": "code",
   "execution_count": 85,
   "id": "a1460a45",
   "metadata": {},
   "outputs": [],
   "source": [
    "from datetime import datetime\n",
    "\n",
    "\n",
    "dates = [movie.get('Release date','N/A') for movie in movie_info_list]\n",
    "\n",
    "def clean_date(date):\n",
    "    return date.split('(')[0].strip()\n",
    "\n",
    "def date_conversion(date):\n",
    "    if isinstance(date, list):\n",
    "        date = date[0]\n",
    "    \n",
    "    if date =='N/A':\n",
    "        return None \n",
    "    \n",
    "    date_str = clean_date(date)\n",
    "    fmts = [\"%B %d, %Y\", \"%d %B %Y\"]  \n",
    "    for fmt in fmts:\n",
    "        try:\n",
    "             return  datetime.strptime(date_str, fmt)\n",
    "        except:\n",
    "            pass\n",
    "    return None\n",
    "    \n",
    "    "
   ]
  },
  {
   "cell_type": "code",
   "execution_count": 86,
   "id": "69fe9e2e",
   "metadata": {},
   "outputs": [],
   "source": [
    "for movie in movie_info_list:\n",
    "    movie[\"Release Date(Datetime)\"] = date_conversion(movie.get('Release date', 'N/A'))"
   ]
  },
  {
   "cell_type": "code",
   "execution_count": 87,
   "id": "5d9d91fa",
   "metadata": {
    "collapsed": true
   },
   "outputs": [
    {
     "data": {
      "text/plain": [
       "{'title': 'National Treasure: Book of Secrets',\n",
       " 'Directed by': 'Jon Turteltaub',\n",
       " 'Screenplay by': ['Cormac Wibberley', 'Marianne Wibberley'],\n",
       " 'Story by': ['Gregory Poirier',\n",
       "  'Cormac Wibberley',\n",
       "  'Marianne Wibberley',\n",
       "  'Ted Elliott',\n",
       "  'Terry Rossio'],\n",
       " 'Based on': ['Characters', 'by', 'Jim Kouf', 'Oren Aviv', 'Charles Segars'],\n",
       " 'Produced by': ['Jerry Bruckheimer', 'Jon Turteltaub'],\n",
       " 'Starring': ['Nicolas Cage',\n",
       "  'Jon Voight',\n",
       "  'Harvey Keitel',\n",
       "  'Ed Harris',\n",
       "  'Diane Kruger',\n",
       "  'Justin Bartha',\n",
       "  'Bruce Greenwood',\n",
       "  'Helen Mirren'],\n",
       " 'Cinematography': ['John Schwartzman', 'Amir Mokri'],\n",
       " 'Edited by': ['William Goldenberg', 'David Rennie'],\n",
       " 'Music by': 'Trevor Rabin',\n",
       " 'Production companies': ['Walt Disney Pictures',\n",
       "  'Jerry Bruckheimer Films',\n",
       "  'Junction Entertainment',\n",
       "  'Saturn Films'],\n",
       " 'Distributed by': 'Walt Disney Studios Motion Pictures',\n",
       " 'Release date': ['December 21, 2007'],\n",
       " 'Running time': '124 minutes',\n",
       " 'Country': 'United States',\n",
       " 'Language': 'English',\n",
       " 'Budget': '$130 million',\n",
       " 'Box office': '$459.2 million',\n",
       " 'Running time(int)': 124,\n",
       " 'Budget(float)': 130000000.0,\n",
       " 'Box office(float)': 459200000.0,\n",
       " 'Release Date(Datetime)': datetime.datetime(2007, 12, 21, 0, 0)}"
      ]
     },
     "execution_count": 87,
     "metadata": {},
     "output_type": "execute_result"
    }
   ],
   "source": [
    "movie_info_list[-10]"
   ]
  },
  {
   "cell_type": "code",
   "execution_count": 88,
   "id": "d0da7461",
   "metadata": {},
   "outputs": [
    {
     "ename": "TypeError",
     "evalue": "Object of type datetime is not JSON serializable",
     "output_type": "error",
     "traceback": [
      "\u001b[1;31m---------------------------------------------------------------------------\u001b[0m",
      "\u001b[1;31mTypeError\u001b[0m                                 Traceback (most recent call last)",
      "Input \u001b[1;32mIn [88]\u001b[0m, in \u001b[0;36m<cell line: 1>\u001b[1;34m()\u001b[0m\n\u001b[1;32m----> 1\u001b[0m \u001b[43msave_data\u001b[49m\u001b[43m(\u001b[49m\u001b[38;5;124;43m'\u001b[39;49m\u001b[38;5;124;43mDisney_Movies_Cleaned(complete).json\u001b[39;49m\u001b[38;5;124;43m'\u001b[39;49m\u001b[43m,\u001b[49m\u001b[43m \u001b[49m\u001b[43mmovie_info_list\u001b[49m\u001b[43m)\u001b[49m\n",
      "Input \u001b[1;32mIn [75]\u001b[0m, in \u001b[0;36msave_data\u001b[1;34m(title, data)\u001b[0m\n\u001b[0;32m      3\u001b[0m \u001b[38;5;28;01mdef\u001b[39;00m \u001b[38;5;21msave_data\u001b[39m(title, data):\n\u001b[0;32m      4\u001b[0m     \u001b[38;5;28;01mwith\u001b[39;00m \u001b[38;5;28mopen\u001b[39m(title, \u001b[38;5;124m'\u001b[39m\u001b[38;5;124mw\u001b[39m\u001b[38;5;124m'\u001b[39m, encoding \u001b[38;5;241m=\u001b[39m \u001b[38;5;124m\"\u001b[39m\u001b[38;5;124mutf-8\u001b[39m\u001b[38;5;124m\"\u001b[39m) \u001b[38;5;28;01mas\u001b[39;00m f:\n\u001b[1;32m----> 5\u001b[0m         \u001b[43mjson\u001b[49m\u001b[38;5;241;43m.\u001b[39;49m\u001b[43mdump\u001b[49m\u001b[43m(\u001b[49m\u001b[43mdata\u001b[49m\u001b[43m,\u001b[49m\u001b[43m \u001b[49m\u001b[43mf\u001b[49m\u001b[43m,\u001b[49m\u001b[43m \u001b[49m\u001b[43mensure_ascii\u001b[49m\u001b[38;5;241;43m=\u001b[39;49m\u001b[38;5;28;43;01mFalse\u001b[39;49;00m\u001b[43m,\u001b[49m\u001b[43m \u001b[49m\u001b[43mindent\u001b[49m\u001b[38;5;241;43m=\u001b[39;49m\u001b[38;5;241;43m2\u001b[39;49m\u001b[43m)\u001b[49m\n",
      "File \u001b[1;32m~\\anaconda3\\lib\\json\\__init__.py:179\u001b[0m, in \u001b[0;36mdump\u001b[1;34m(obj, fp, skipkeys, ensure_ascii, check_circular, allow_nan, cls, indent, separators, default, sort_keys, **kw)\u001b[0m\n\u001b[0;32m    173\u001b[0m     iterable \u001b[38;5;241m=\u001b[39m \u001b[38;5;28mcls\u001b[39m(skipkeys\u001b[38;5;241m=\u001b[39mskipkeys, ensure_ascii\u001b[38;5;241m=\u001b[39mensure_ascii,\n\u001b[0;32m    174\u001b[0m         check_circular\u001b[38;5;241m=\u001b[39mcheck_circular, allow_nan\u001b[38;5;241m=\u001b[39mallow_nan, indent\u001b[38;5;241m=\u001b[39mindent,\n\u001b[0;32m    175\u001b[0m         separators\u001b[38;5;241m=\u001b[39mseparators,\n\u001b[0;32m    176\u001b[0m         default\u001b[38;5;241m=\u001b[39mdefault, sort_keys\u001b[38;5;241m=\u001b[39msort_keys, \u001b[38;5;241m*\u001b[39m\u001b[38;5;241m*\u001b[39mkw)\u001b[38;5;241m.\u001b[39miterencode(obj)\n\u001b[0;32m    177\u001b[0m \u001b[38;5;66;03m# could accelerate with writelines in some versions of Python, at\u001b[39;00m\n\u001b[0;32m    178\u001b[0m \u001b[38;5;66;03m# a debuggability cost\u001b[39;00m\n\u001b[1;32m--> 179\u001b[0m \u001b[38;5;28;01mfor\u001b[39;00m chunk \u001b[38;5;129;01min\u001b[39;00m iterable:\n\u001b[0;32m    180\u001b[0m     fp\u001b[38;5;241m.\u001b[39mwrite(chunk)\n",
      "File \u001b[1;32m~\\anaconda3\\lib\\json\\encoder.py:429\u001b[0m, in \u001b[0;36m_make_iterencode.<locals>._iterencode\u001b[1;34m(o, _current_indent_level)\u001b[0m\n\u001b[0;32m    427\u001b[0m     \u001b[38;5;28;01myield\u001b[39;00m _floatstr(o)\n\u001b[0;32m    428\u001b[0m \u001b[38;5;28;01melif\u001b[39;00m \u001b[38;5;28misinstance\u001b[39m(o, (\u001b[38;5;28mlist\u001b[39m, \u001b[38;5;28mtuple\u001b[39m)):\n\u001b[1;32m--> 429\u001b[0m     \u001b[38;5;28;01myield from\u001b[39;00m _iterencode_list(o, _current_indent_level)\n\u001b[0;32m    430\u001b[0m \u001b[38;5;28;01melif\u001b[39;00m \u001b[38;5;28misinstance\u001b[39m(o, \u001b[38;5;28mdict\u001b[39m):\n\u001b[0;32m    431\u001b[0m     \u001b[38;5;28;01myield from\u001b[39;00m _iterencode_dict(o, _current_indent_level)\n",
      "File \u001b[1;32m~\\anaconda3\\lib\\json\\encoder.py:325\u001b[0m, in \u001b[0;36m_make_iterencode.<locals>._iterencode_list\u001b[1;34m(lst, _current_indent_level)\u001b[0m\n\u001b[0;32m    323\u001b[0m         \u001b[38;5;28;01melse\u001b[39;00m:\n\u001b[0;32m    324\u001b[0m             chunks \u001b[38;5;241m=\u001b[39m _iterencode(value, _current_indent_level)\n\u001b[1;32m--> 325\u001b[0m         \u001b[38;5;28;01myield from\u001b[39;00m chunks\n\u001b[0;32m    326\u001b[0m \u001b[38;5;28;01mif\u001b[39;00m newline_indent \u001b[38;5;129;01mis\u001b[39;00m \u001b[38;5;129;01mnot\u001b[39;00m \u001b[38;5;28;01mNone\u001b[39;00m:\n\u001b[0;32m    327\u001b[0m     _current_indent_level \u001b[38;5;241m-\u001b[39m\u001b[38;5;241m=\u001b[39m \u001b[38;5;241m1\u001b[39m\n",
      "File \u001b[1;32m~\\anaconda3\\lib\\json\\encoder.py:405\u001b[0m, in \u001b[0;36m_make_iterencode.<locals>._iterencode_dict\u001b[1;34m(dct, _current_indent_level)\u001b[0m\n\u001b[0;32m    403\u001b[0m         \u001b[38;5;28;01melse\u001b[39;00m:\n\u001b[0;32m    404\u001b[0m             chunks \u001b[38;5;241m=\u001b[39m _iterencode(value, _current_indent_level)\n\u001b[1;32m--> 405\u001b[0m         \u001b[38;5;28;01myield from\u001b[39;00m chunks\n\u001b[0;32m    406\u001b[0m \u001b[38;5;28;01mif\u001b[39;00m newline_indent \u001b[38;5;129;01mis\u001b[39;00m \u001b[38;5;129;01mnot\u001b[39;00m \u001b[38;5;28;01mNone\u001b[39;00m:\n\u001b[0;32m    407\u001b[0m     _current_indent_level \u001b[38;5;241m-\u001b[39m\u001b[38;5;241m=\u001b[39m \u001b[38;5;241m1\u001b[39m\n",
      "File \u001b[1;32m~\\anaconda3\\lib\\json\\encoder.py:438\u001b[0m, in \u001b[0;36m_make_iterencode.<locals>._iterencode\u001b[1;34m(o, _current_indent_level)\u001b[0m\n\u001b[0;32m    436\u001b[0m         \u001b[38;5;28;01mraise\u001b[39;00m \u001b[38;5;167;01mValueError\u001b[39;00m(\u001b[38;5;124m\"\u001b[39m\u001b[38;5;124mCircular reference detected\u001b[39m\u001b[38;5;124m\"\u001b[39m)\n\u001b[0;32m    437\u001b[0m     markers[markerid] \u001b[38;5;241m=\u001b[39m o\n\u001b[1;32m--> 438\u001b[0m o \u001b[38;5;241m=\u001b[39m \u001b[43m_default\u001b[49m\u001b[43m(\u001b[49m\u001b[43mo\u001b[49m\u001b[43m)\u001b[49m\n\u001b[0;32m    439\u001b[0m \u001b[38;5;28;01myield from\u001b[39;00m _iterencode(o, _current_indent_level)\n\u001b[0;32m    440\u001b[0m \u001b[38;5;28;01mif\u001b[39;00m markers \u001b[38;5;129;01mis\u001b[39;00m \u001b[38;5;129;01mnot\u001b[39;00m \u001b[38;5;28;01mNone\u001b[39;00m:\n",
      "File \u001b[1;32m~\\anaconda3\\lib\\json\\encoder.py:179\u001b[0m, in \u001b[0;36mJSONEncoder.default\u001b[1;34m(self, o)\u001b[0m\n\u001b[0;32m    160\u001b[0m \u001b[38;5;28;01mdef\u001b[39;00m \u001b[38;5;21mdefault\u001b[39m(\u001b[38;5;28mself\u001b[39m, o):\n\u001b[0;32m    161\u001b[0m     \u001b[38;5;124;03m\"\"\"Implement this method in a subclass such that it returns\u001b[39;00m\n\u001b[0;32m    162\u001b[0m \u001b[38;5;124;03m    a serializable object for ``o``, or calls the base implementation\u001b[39;00m\n\u001b[0;32m    163\u001b[0m \u001b[38;5;124;03m    (to raise a ``TypeError``).\u001b[39;00m\n\u001b[1;32m   (...)\u001b[0m\n\u001b[0;32m    177\u001b[0m \n\u001b[0;32m    178\u001b[0m \u001b[38;5;124;03m    \"\"\"\u001b[39;00m\n\u001b[1;32m--> 179\u001b[0m     \u001b[38;5;28;01mraise\u001b[39;00m \u001b[38;5;167;01mTypeError\u001b[39;00m(\u001b[38;5;124mf\u001b[39m\u001b[38;5;124m'\u001b[39m\u001b[38;5;124mObject of type \u001b[39m\u001b[38;5;132;01m{\u001b[39;00mo\u001b[38;5;241m.\u001b[39m\u001b[38;5;18m__class__\u001b[39m\u001b[38;5;241m.\u001b[39m\u001b[38;5;18m__name__\u001b[39m\u001b[38;5;132;01m}\u001b[39;00m\u001b[38;5;124m \u001b[39m\u001b[38;5;124m'\u001b[39m\n\u001b[0;32m    180\u001b[0m                     \u001b[38;5;124mf\u001b[39m\u001b[38;5;124m'\u001b[39m\u001b[38;5;124mis not JSON serializable\u001b[39m\u001b[38;5;124m'\u001b[39m)\n",
      "\u001b[1;31mTypeError\u001b[0m: Object of type datetime is not JSON serializable"
     ]
    }
   ],
   "source": [
    "save_data('Disney_Movies_Cleaned(complete).json', movie_info_list)"
   ]
  },
  {
   "cell_type": "code",
   "execution_count": 89,
   "id": "71021c36",
   "metadata": {},
   "outputs": [],
   "source": [
    "import pickle\n",
    "\n",
    "def save_with_pickle(name, data):\n",
    "\n",
    "    with open(name, 'wb') as f:\n",
    "        pickle.dump(data, f)\n",
    "\n",
    "        \n",
    "def load_with_pickle(name):\n",
    "    with open(name, 'rb') as f:\n",
    "        return pickle.load(f)\n",
    "    \n"
   ]
  },
  {
   "cell_type": "code",
   "execution_count": 90,
   "id": "1d4dfe54",
   "metadata": {},
   "outputs": [],
   "source": [
    "save_with_pickle(\"Disney_Movies_Data_Cleaned.pickle\", movie_info_list)"
   ]
  },
  {
   "cell_type": "code",
   "execution_count": 91,
   "id": "fb591b7c",
   "metadata": {},
   "outputs": [],
   "source": [
    "data = load_with_pickle(\"Disney_Movies_Data_Cleaned.pickle\")"
   ]
  },
  {
   "cell_type": "code",
   "execution_count": 92,
   "id": "e46efc6c",
   "metadata": {},
   "outputs": [
    {
     "data": {
      "text/plain": [
       "{'title': 'Bambi',\n",
       " 'Directed by': ['Supervising director',\n",
       "  'David Hand',\n",
       "  'Sequence directors',\n",
       "  'James Algar',\n",
       "  'Samuel Armstrong',\n",
       "  'Graham Heid',\n",
       "  'Bill Roberts',\n",
       "  'Paul Satterfield',\n",
       "  'Norman Wright'],\n",
       " 'Story by': ['Story direction',\n",
       "  'Perce Pearce',\n",
       "  'Story adaptation',\n",
       "  'Larry Morey',\n",
       "  'Story development',\n",
       "  'Vernon Stallings',\n",
       "  'Melvin Shaw',\n",
       "  'Carl Fallberg',\n",
       "  'Chuck Couch',\n",
       "  'Ralph Wright'],\n",
       " 'Based on': ['Bambi, a Life in the Woods', 'by', 'Felix Salten'],\n",
       " 'Produced by': 'Walt Disney',\n",
       " 'Starring': 'see below',\n",
       " 'Music by': ['Frank Churchill', 'Edward H. Plumb'],\n",
       " 'Production company': 'Walt Disney Productions',\n",
       " 'Distributed by': 'RKO Radio Pictures',\n",
       " 'Release dates': ['August 9, 1942 ( London )',\n",
       "  'August 21, 1942 (United States)'],\n",
       " 'Running time': '70 minutes',\n",
       " 'Country': 'United States',\n",
       " 'Language': 'English',\n",
       " 'Budget': '$858,000',\n",
       " 'Box office': '$267.4 million',\n",
       " 'Running time(int)': 70,\n",
       " 'Budget(float)': 858000.0,\n",
       " 'Box office(float)': 267399999.99999997,\n",
       " 'Release Date(Datetime)': None}"
      ]
     },
     "execution_count": 92,
     "metadata": {},
     "output_type": "execute_result"
    }
   ],
   "source": [
    "data[5]"
   ]
  }
 ],
 "metadata": {
  "kernelspec": {
   "display_name": "Python 3 (ipykernel)",
   "language": "python",
   "name": "python3"
  },
  "language_info": {
   "codemirror_mode": {
    "name": "ipython",
    "version": 3
   },
   "file_extension": ".py",
   "mimetype": "text/x-python",
   "name": "python",
   "nbconvert_exporter": "python",
   "pygments_lexer": "ipython3",
   "version": "3.9.12"
  }
 },
 "nbformat": 4,
 "nbformat_minor": 5
}
